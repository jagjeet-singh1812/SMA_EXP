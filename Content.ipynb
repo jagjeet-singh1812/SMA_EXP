{
 "cells": [
  {
   "cell_type": "code",
   "execution_count": 1,
   "id": "481bae49-e9b3-4a49-8978-a462d6707739",
   "metadata": {},
   "outputs": [
    {
     "name": "stdout",
     "output_type": "stream",
     "text": [
      "   id  label                                              tweet\n",
      "0   1      0   @user when a father is dysfunctional and is s...\n",
      "1   2      0  @user @user thanks for #lyft credit i can't us...\n",
      "2   3      0                                bihday your majesty\n",
      "3   4      0  #model   i love u take with u all the time in ...\n",
      "4   5      0             factsguide: society now    #motivation\n",
      "5   6      0  [2/2] huge fan fare and big talking before the...\n",
      "6   7      0   @user camping tomorrow @user @user @user @use...\n",
      "7   8      0  the next school year is the year for exams.ð...\n",
      "8   9      0  we won!!! love the land!!! #allin #cavs #champ...\n",
      "9  10      0   @user @user welcome here !  i'm   it's so #gr...\n"
     ]
    }
   ],
   "source": [
    "import pandas as pd\n",
    "\n",
    "url = \"https://raw.githubusercontent.com/dD2405/Twitter_Sentiment_Analysis/master/train.csv\"\n",
    "df = pd.read_csv(url)\n",
    "print(df.head(10))"
   ]
  },
  {
   "cell_type": "code",
   "execution_count": 3,
   "id": "096fd956-8b29-4625-adfc-d536111f5dad",
   "metadata": {},
   "outputs": [
    {
     "name": "stdout",
     "output_type": "stream",
     "text": [
      "Collecting nltk\n",
      "  Downloading nltk-3.9.1-py3-none-any.whl.metadata (2.9 kB)\n",
      "Requirement already satisfied: click in c:\\users\\jagjeet\\appdata\\local\\programs\\python\\python312\\lib\\site-packages (from nltk) (8.1.7)\n",
      "Collecting joblib (from nltk)\n",
      "  Downloading joblib-1.4.2-py3-none-any.whl.metadata (5.4 kB)\n",
      "Requirement already satisfied: regex>=2021.8.3 in c:\\users\\jagjeet\\appdata\\local\\programs\\python\\python312\\lib\\site-packages (from nltk) (2023.12.25)\n",
      "Requirement already satisfied: tqdm in c:\\users\\jagjeet\\appdata\\local\\programs\\python\\python312\\lib\\site-packages (from nltk) (4.66.2)\n",
      "Requirement already satisfied: colorama in c:\\users\\jagjeet\\appdata\\local\\programs\\python\\python312\\lib\\site-packages (from click->nltk) (0.4.6)\n",
      "Downloading nltk-3.9.1-py3-none-any.whl (1.5 MB)\n",
      "   ---------------------------------------- 0.0/1.5 MB ? eta -:--:--\n",
      "   ---------------------------------------- 0.0/1.5 MB ? eta -:--:--\n",
      "   ---------------------------------------- 0.0/1.5 MB ? eta -:--:--\n",
      "    --------------------------------------- 0.0/1.5 MB 325.1 kB/s eta 0:00:05\n",
      "   - -------------------------------------- 0.1/1.5 MB 465.5 kB/s eta 0:00:04\n",
      "   -- ------------------------------------- 0.1/1.5 MB 652.2 kB/s eta 0:00:03\n",
      "   ---- ----------------------------------- 0.2/1.5 MB 706.2 kB/s eta 0:00:02\n",
      "   ------ --------------------------------- 0.2/1.5 MB 901.1 kB/s eta 0:00:02\n",
      "   -------- ------------------------------- 0.3/1.5 MB 1.1 MB/s eta 0:00:02\n",
      "   ---------- ----------------------------- 0.4/1.5 MB 1.1 MB/s eta 0:00:01\n",
      "   ------------- -------------------------- 0.5/1.5 MB 1.3 MB/s eta 0:00:01\n",
      "   --------------- ------------------------ 0.6/1.5 MB 1.3 MB/s eta 0:00:01\n",
      "   ----------------- ---------------------- 0.7/1.5 MB 1.4 MB/s eta 0:00:01\n",
      "   -------------------- ------------------- 0.8/1.5 MB 1.4 MB/s eta 0:00:01\n",
      "   ---------------------- ----------------- 0.9/1.5 MB 1.5 MB/s eta 0:00:01\n",
      "   ------------------------- -------------- 0.9/1.5 MB 1.5 MB/s eta 0:00:01\n",
      "   ---------------------------- ----------- 1.1/1.5 MB 1.6 MB/s eta 0:00:01\n",
      "   ------------------------------- -------- 1.2/1.5 MB 1.6 MB/s eta 0:00:01\n",
      "   --------------------------------- ------ 1.3/1.5 MB 1.6 MB/s eta 0:00:01\n",
      "   ------------------------------------- -- 1.4/1.5 MB 1.7 MB/s eta 0:00:01\n",
      "   ---------------------------------------  1.5/1.5 MB 1.7 MB/s eta 0:00:01\n",
      "   ---------------------------------------- 1.5/1.5 MB 1.7 MB/s eta 0:00:00\n",
      "Downloading joblib-1.4.2-py3-none-any.whl (301 kB)\n",
      "   ---------------------------------------- 0.0/301.8 kB ? eta -:--:--\n",
      "   ------------------ --------------------- 143.4/301.8 kB 4.3 MB/s eta 0:00:01\n",
      "   ---------------------------------------  297.0/301.8 kB 3.7 MB/s eta 0:00:01\n",
      "   ---------------------------------------- 301.8/301.8 kB 3.1 MB/s eta 0:00:00\n",
      "Installing collected packages: joblib, nltk\n",
      "Successfully installed joblib-1.4.2 nltk-3.9.1\n"
     ]
    },
    {
     "name": "stderr",
     "output_type": "stream",
     "text": [
      "\n",
      "[notice] A new release of pip is available: 23.3.2 -> 25.0.1\n",
      "[notice] To update, run: python.exe -m pip install --upgrade pip\n"
     ]
    }
   ],
   "source": [
    "!pip install nltk\n"
   ]
  },
  {
   "cell_type": "code",
   "execution_count": 7,
   "id": "a39dc712-445b-4fe5-bb82-ba38cd9454c7",
   "metadata": {},
   "outputs": [
    {
     "name": "stderr",
     "output_type": "stream",
     "text": [
      "[nltk_data] Downloading package stopwords to\n",
      "[nltk_data]     C:\\Users\\Jagjeet\\AppData\\Roaming\\nltk_data...\n",
      "[nltk_data]   Unzipping corpora\\stopwords.zip.\n",
      "[nltk_data] Downloading package wordnet to\n",
      "[nltk_data]     C:\\Users\\Jagjeet\\AppData\\Roaming\\nltk_data...\n",
      "[nltk_data]   Package wordnet is already up-to-date!\n"
     ]
    },
    {
     "data": {
      "text/plain": [
       "True"
      ]
     },
     "execution_count": 7,
     "metadata": {},
     "output_type": "execute_result"
    }
   ],
   "source": [
    "import nltk\n",
    "\n",
    "nltk.download('stopwords')\n",
    "nltk.download('wordnet')"
   ]
  },
  {
   "cell_type": "code",
   "execution_count": null,
   "id": "515e6e08-3f87-40a1-b09f-a958ba1b96dd",
   "metadata": {},
   "outputs": [],
   "source": [
    "def preprocess(df):\n",
    "    lemmitizer=WordNetLemmatizer()\n",
    "    stopword=set(stopwords.words('english'))\n",
    "    "
   ]
  }
 ],
 "metadata": {
  "kernelspec": {
   "display_name": "Python 3 (ipykernel)",
   "language": "python",
   "name": "python3"
  },
  "language_info": {
   "codemirror_mode": {
    "name": "ipython",
    "version": 3
   },
   "file_extension": ".py",
   "mimetype": "text/x-python",
   "name": "python",
   "nbconvert_exporter": "python",
   "pygments_lexer": "ipython3",
   "version": "3.12.1"
  }
 },
 "nbformat": 4,
 "nbformat_minor": 5
}
